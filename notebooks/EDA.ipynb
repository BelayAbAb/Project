## Exploratory Data Analysis
Detailed analysis of the datasets.